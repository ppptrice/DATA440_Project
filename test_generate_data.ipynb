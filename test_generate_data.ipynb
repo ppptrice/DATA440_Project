{
 "cells": [
  {
   "cell_type": "code",
   "execution_count": 1,
   "id": "b171a58f-8ea3-4fb4-8751-d41262a25c21",
   "metadata": {},
   "outputs": [],
   "source": [
    "import numpy as np\n",
    "import pandas as pd\n",
    "import matplotlib.pyplot as plt\n",
    "import seaborn as sns"
   ]
  },
  {
   "cell_type": "code",
   "execution_count": 2,
   "id": "21653090-24c9-4414-b566-e5c2efcee008",
   "metadata": {},
   "outputs": [
    {
     "data": {
      "text/html": [
       "<div>\n",
       "<style scoped>\n",
       "    .dataframe tbody tr th:only-of-type {\n",
       "        vertical-align: middle;\n",
       "    }\n",
       "\n",
       "    .dataframe tbody tr th {\n",
       "        vertical-align: top;\n",
       "    }\n",
       "\n",
       "    .dataframe thead th {\n",
       "        text-align: right;\n",
       "    }\n",
       "</style>\n",
       "<table border=\"1\" class=\"dataframe\">\n",
       "  <thead>\n",
       "    <tr style=\"text-align: right;\">\n",
       "      <th></th>\n",
       "      <th>Unnamed: 0</th>\n",
       "      <th>Unnamed: 1</th>\n",
       "      <th>IFN-gamma</th>\n",
       "      <th>Unnamed: 3</th>\n",
       "      <th>IL-12p70</th>\n",
       "      <th>Unnamed: 5</th>\n",
       "      <th>IL-13</th>\n",
       "      <th>Unnamed: 7</th>\n",
       "      <th>IL-1beta</th>\n",
       "      <th>Unnamed: 9</th>\n",
       "      <th>...</th>\n",
       "      <th>IL-21</th>\n",
       "      <th>Unnamed: 29</th>\n",
       "      <th>IL-22</th>\n",
       "      <th>Unnamed: 31</th>\n",
       "      <th>IL-23</th>\n",
       "      <th>Unnamed: 33</th>\n",
       "      <th>IL-27</th>\n",
       "      <th>Unnamed: 35</th>\n",
       "      <th>IL-9</th>\n",
       "      <th>Unnamed: 37</th>\n",
       "    </tr>\n",
       "  </thead>\n",
       "  <tbody>\n",
       "    <tr>\n",
       "      <th>0</th>\n",
       "      <td>NaN</td>\n",
       "      <td>Sample ID</td>\n",
       "      <td>MFI</td>\n",
       "      <td>Result in pg/ml</td>\n",
       "      <td>MFI</td>\n",
       "      <td>Result in pg/ml</td>\n",
       "      <td>MFI</td>\n",
       "      <td>Result in pg/ml</td>\n",
       "      <td>MFI</td>\n",
       "      <td>Result in pg/ml</td>\n",
       "      <td>...</td>\n",
       "      <td>MFI</td>\n",
       "      <td>Result in pg/ml</td>\n",
       "      <td>MFI</td>\n",
       "      <td>Result in pg/ml</td>\n",
       "      <td>MFI</td>\n",
       "      <td>Result in pg/ml</td>\n",
       "      <td>MFI</td>\n",
       "      <td>Result in pg/ml</td>\n",
       "      <td>MFI</td>\n",
       "      <td>Result in pg/ml</td>\n",
       "    </tr>\n",
       "    <tr>\n",
       "      <th>1</th>\n",
       "      <td>1.0</td>\n",
       "      <td>3400334878</td>\n",
       "      <td>98</td>\n",
       "      <td>27.22</td>\n",
       "      <td>8.5</td>\n",
       "      <td>&lt;=0</td>\n",
       "      <td>9.5</td>\n",
       "      <td>&lt;=0</td>\n",
       "      <td>11.5</td>\n",
       "      <td>&lt;=0</td>\n",
       "      <td>...</td>\n",
       "      <td>7</td>\n",
       "      <td>&lt;=0</td>\n",
       "      <td>9</td>\n",
       "      <td>&lt;=0</td>\n",
       "      <td>9.5</td>\n",
       "      <td>&lt;=0</td>\n",
       "      <td>10.5</td>\n",
       "      <td>&lt;=0</td>\n",
       "      <td>7</td>\n",
       "      <td>&lt;=0</td>\n",
       "    </tr>\n",
       "    <tr>\n",
       "      <th>2</th>\n",
       "      <td>2.0</td>\n",
       "      <td>3400334880</td>\n",
       "      <td>37.5</td>\n",
       "      <td>&lt;=0</td>\n",
       "      <td>8</td>\n",
       "      <td>&lt;=0</td>\n",
       "      <td>9</td>\n",
       "      <td>&lt;=0</td>\n",
       "      <td>9.5</td>\n",
       "      <td>&lt;=0</td>\n",
       "      <td>...</td>\n",
       "      <td>7</td>\n",
       "      <td>&lt;=0</td>\n",
       "      <td>8</td>\n",
       "      <td>&lt;=0</td>\n",
       "      <td>9</td>\n",
       "      <td>&lt;=0</td>\n",
       "      <td>9.5</td>\n",
       "      <td>&lt;=0</td>\n",
       "      <td>8.5</td>\n",
       "      <td>&lt;=0</td>\n",
       "    </tr>\n",
       "  </tbody>\n",
       "</table>\n",
       "<p>3 rows × 38 columns</p>\n",
       "</div>"
      ],
      "text/plain": [
       "   Unnamed: 0  Unnamed: 1 IFN-gamma       Unnamed: 3 IL-12p70  \\\n",
       "0         NaN   Sample ID       MFI  Result in pg/ml      MFI   \n",
       "1         1.0  3400334878        98            27.22      8.5   \n",
       "2         2.0  3400334880      37.5              <=0        8   \n",
       "\n",
       "        Unnamed: 5 IL-13       Unnamed: 7 IL-1beta       Unnamed: 9  ...  \\\n",
       "0  Result in pg/ml   MFI  Result in pg/ml      MFI  Result in pg/ml  ...   \n",
       "1              <=0   9.5              <=0     11.5              <=0  ...   \n",
       "2              <=0     9              <=0      9.5              <=0  ...   \n",
       "\n",
       "  IL-21      Unnamed: 29 IL-22      Unnamed: 31 IL-23      Unnamed: 33 IL-27  \\\n",
       "0   MFI  Result in pg/ml   MFI  Result in pg/ml   MFI  Result in pg/ml   MFI   \n",
       "1     7              <=0     9              <=0   9.5              <=0  10.5   \n",
       "2     7              <=0     8              <=0     9              <=0   9.5   \n",
       "\n",
       "       Unnamed: 35 IL-9      Unnamed: 37  \n",
       "0  Result in pg/ml  MFI  Result in pg/ml  \n",
       "1              <=0    7              <=0  \n",
       "2              <=0  8.5              <=0  \n",
       "\n",
       "[3 rows x 38 columns]"
      ]
     },
     "execution_count": 2,
     "metadata": {},
     "output_type": "execute_result"
    }
   ],
   "source": [
    "# importing raw data\n",
    "cyto_data = pd.read_csv('data/norm_cytokine_data.csv')\n",
    "cyto_data.head(3)"
   ]
  },
  {
   "cell_type": "code",
   "execution_count": 3,
   "id": "10951e87-a258-41ff-a88b-7f1635b8b7d2",
   "metadata": {},
   "outputs": [],
   "source": [
    "cyto_data = cyto_data.set_index('Unnamed: 1')"
   ]
  },
  {
   "cell_type": "code",
   "execution_count": 4,
   "id": "5cec2680-e1ea-4902-aab0-9986809a94b9",
   "metadata": {},
   "outputs": [],
   "source": [
    "for col in cyto_data.columns:\n",
    "    #print(col)\n",
    "    if 'Unnamed' in col:\n",
    "        #print(col)\n",
    "        cyto_data = cyto_data.drop(col, axis = 1)"
   ]
  },
  {
   "cell_type": "code",
   "execution_count": 5,
   "id": "80e62a20-2e57-47c9-8776-9e4c1303daba",
   "metadata": {},
   "outputs": [],
   "source": [
    "cyto_data = cyto_data.drop('Sample ID') "
   ]
  },
  {
   "cell_type": "code",
   "execution_count": 6,
   "id": "f9d4de98-58ea-499f-b941-1a84c44f6e8b",
   "metadata": {},
   "outputs": [
    {
     "data": {
      "text/html": [
       "<div>\n",
       "<style scoped>\n",
       "    .dataframe tbody tr th:only-of-type {\n",
       "        vertical-align: middle;\n",
       "    }\n",
       "\n",
       "    .dataframe tbody tr th {\n",
       "        vertical-align: top;\n",
       "    }\n",
       "\n",
       "    .dataframe thead th {\n",
       "        text-align: right;\n",
       "    }\n",
       "</style>\n",
       "<table border=\"1\" class=\"dataframe\">\n",
       "  <thead>\n",
       "    <tr style=\"text-align: right;\">\n",
       "      <th></th>\n",
       "      <th>IFN-gamma</th>\n",
       "      <th>IL-12p70</th>\n",
       "      <th>IL-13</th>\n",
       "      <th>IL-1beta</th>\n",
       "      <th>IL-2</th>\n",
       "      <th>IL-4</th>\n",
       "      <th>IL-5</th>\n",
       "      <th>IL-6</th>\n",
       "      <th>TNF-alpha</th>\n",
       "      <th>GM-CSF</th>\n",
       "      <th>IL-18</th>\n",
       "      <th>IL-10</th>\n",
       "      <th>IL-17A</th>\n",
       "      <th>IL-21</th>\n",
       "      <th>IL-22</th>\n",
       "      <th>IL-23</th>\n",
       "      <th>IL-27</th>\n",
       "      <th>IL-9</th>\n",
       "    </tr>\n",
       "    <tr>\n",
       "      <th>Sample_ID</th>\n",
       "      <th></th>\n",
       "      <th></th>\n",
       "      <th></th>\n",
       "      <th></th>\n",
       "      <th></th>\n",
       "      <th></th>\n",
       "      <th></th>\n",
       "      <th></th>\n",
       "      <th></th>\n",
       "      <th></th>\n",
       "      <th></th>\n",
       "      <th></th>\n",
       "      <th></th>\n",
       "      <th></th>\n",
       "      <th></th>\n",
       "      <th></th>\n",
       "      <th></th>\n",
       "      <th></th>\n",
       "    </tr>\n",
       "  </thead>\n",
       "  <tbody>\n",
       "    <tr>\n",
       "      <th>3400334878</th>\n",
       "      <td>98</td>\n",
       "      <td>8.5</td>\n",
       "      <td>9.5</td>\n",
       "      <td>11.5</td>\n",
       "      <td>6.5</td>\n",
       "      <td>8</td>\n",
       "      <td>7.5</td>\n",
       "      <td>8</td>\n",
       "      <td>11</td>\n",
       "      <td>9</td>\n",
       "      <td>124.5</td>\n",
       "      <td>6</td>\n",
       "      <td>5.5</td>\n",
       "      <td>7</td>\n",
       "      <td>9</td>\n",
       "      <td>9.5</td>\n",
       "      <td>10.5</td>\n",
       "      <td>7</td>\n",
       "    </tr>\n",
       "    <tr>\n",
       "      <th>3400334880</th>\n",
       "      <td>37.5</td>\n",
       "      <td>8</td>\n",
       "      <td>9</td>\n",
       "      <td>9.5</td>\n",
       "      <td>5</td>\n",
       "      <td>7.5</td>\n",
       "      <td>8</td>\n",
       "      <td>7</td>\n",
       "      <td>9</td>\n",
       "      <td>8</td>\n",
       "      <td>39.5</td>\n",
       "      <td>9.5</td>\n",
       "      <td>5</td>\n",
       "      <td>7</td>\n",
       "      <td>8</td>\n",
       "      <td>9</td>\n",
       "      <td>9.5</td>\n",
       "      <td>8.5</td>\n",
       "    </tr>\n",
       "    <tr>\n",
       "      <th>3400334974</th>\n",
       "      <td>33.5</td>\n",
       "      <td>7.5</td>\n",
       "      <td>9</td>\n",
       "      <td>10.5</td>\n",
       "      <td>6</td>\n",
       "      <td>6.5</td>\n",
       "      <td>8</td>\n",
       "      <td>7.5</td>\n",
       "      <td>8</td>\n",
       "      <td>8</td>\n",
       "      <td>26.75</td>\n",
       "      <td>8.5</td>\n",
       "      <td>5</td>\n",
       "      <td>7.5</td>\n",
       "      <td>8</td>\n",
       "      <td>9</td>\n",
       "      <td>9.5</td>\n",
       "      <td>6</td>\n",
       "    </tr>\n",
       "    <tr>\n",
       "      <th>3400335283</th>\n",
       "      <td>26</td>\n",
       "      <td>8</td>\n",
       "      <td>9</td>\n",
       "      <td>10.5</td>\n",
       "      <td>6</td>\n",
       "      <td>7</td>\n",
       "      <td>8</td>\n",
       "      <td>7</td>\n",
       "      <td>9</td>\n",
       "      <td>8.5</td>\n",
       "      <td>24</td>\n",
       "      <td>9</td>\n",
       "      <td>5.5</td>\n",
       "      <td>9</td>\n",
       "      <td>8.5</td>\n",
       "      <td>9</td>\n",
       "      <td>10</td>\n",
       "      <td>6</td>\n",
       "    </tr>\n",
       "    <tr>\n",
       "      <th>3400335823</th>\n",
       "      <td>40.5</td>\n",
       "      <td>8</td>\n",
       "      <td>9</td>\n",
       "      <td>11</td>\n",
       "      <td>5.5</td>\n",
       "      <td>9</td>\n",
       "      <td>8</td>\n",
       "      <td>7.5</td>\n",
       "      <td>9</td>\n",
       "      <td>9</td>\n",
       "      <td>38.5</td>\n",
       "      <td>8</td>\n",
       "      <td>5</td>\n",
       "      <td>79</td>\n",
       "      <td>9</td>\n",
       "      <td>9</td>\n",
       "      <td>10</td>\n",
       "      <td>6</td>\n",
       "    </tr>\n",
       "  </tbody>\n",
       "</table>\n",
       "</div>"
      ],
      "text/plain": [
       "           IFN-gamma IL-12p70 IL-13 IL-1beta IL-2 IL-4 IL-5 IL-6 TNF-alpha  \\\n",
       "Sample_ID                                                                    \n",
       "3400334878        98      8.5   9.5     11.5  6.5    8  7.5    8        11   \n",
       "3400334880      37.5        8     9      9.5    5  7.5    8    7         9   \n",
       "3400334974      33.5      7.5     9     10.5    6  6.5    8  7.5         8   \n",
       "3400335283        26        8     9     10.5    6    7    8    7         9   \n",
       "3400335823      40.5        8     9       11  5.5    9    8  7.5         9   \n",
       "\n",
       "           GM-CSF  IL-18 IL-10 IL-17A IL-21 IL-22 IL-23 IL-27 IL-9  \n",
       "Sample_ID                                                           \n",
       "3400334878      9  124.5     6    5.5     7     9   9.5  10.5    7  \n",
       "3400334880      8   39.5   9.5      5     7     8     9   9.5  8.5  \n",
       "3400334974      8  26.75   8.5      5   7.5     8     9   9.5    6  \n",
       "3400335283    8.5     24     9    5.5     9   8.5     9    10    6  \n",
       "3400335823      9   38.5     8      5    79     9     9    10    6  "
      ]
     },
     "execution_count": 6,
     "metadata": {},
     "output_type": "execute_result"
    }
   ],
   "source": [
    "#\n",
    "cyto_data.index.name = 'Sample_ID'\n",
    "cyto_data.head()"
   ]
  },
  {
   "cell_type": "code",
   "execution_count": 7,
   "id": "77ac6328-37e8-4aba-9085-88235c7e7695",
   "metadata": {},
   "outputs": [
    {
     "data": {
      "text/plain": [
       "'37.5'"
      ]
     },
     "execution_count": 7,
     "metadata": {},
     "output_type": "execute_result"
    }
   ],
   "source": [
    "# the data are input as strings, so we need to change them to int\n",
    "cyto_data.iloc[1][0]"
   ]
  },
  {
   "cell_type": "code",
   "execution_count": 8,
   "id": "3d4ea6bd-3ca7-48a2-97da-3189eaf1f929",
   "metadata": {},
   "outputs": [],
   "source": [
    "# convert to float\n",
    "for col in cyto_data.columns:\n",
    "    cyto_data[col] = cyto_data[col].apply(float)"
   ]
  },
  {
   "cell_type": "code",
   "execution_count": 9,
   "id": "71e5a975-5fd7-47da-a10d-853874eabc76",
   "metadata": {},
   "outputs": [
    {
     "data": {
      "text/html": [
       "<div>\n",
       "<style scoped>\n",
       "    .dataframe tbody tr th:only-of-type {\n",
       "        vertical-align: middle;\n",
       "    }\n",
       "\n",
       "    .dataframe tbody tr th {\n",
       "        vertical-align: top;\n",
       "    }\n",
       "\n",
       "    .dataframe thead th {\n",
       "        text-align: right;\n",
       "    }\n",
       "</style>\n",
       "<table border=\"1\" class=\"dataframe\">\n",
       "  <thead>\n",
       "    <tr style=\"text-align: right;\">\n",
       "      <th></th>\n",
       "      <th>IFN-gamma</th>\n",
       "      <th>IL-12p70</th>\n",
       "      <th>IL-13</th>\n",
       "      <th>IL-1beta</th>\n",
       "      <th>IL-2</th>\n",
       "      <th>IL-4</th>\n",
       "      <th>IL-5</th>\n",
       "      <th>IL-6</th>\n",
       "      <th>TNF-alpha</th>\n",
       "      <th>GM-CSF</th>\n",
       "      <th>IL-18</th>\n",
       "      <th>IL-10</th>\n",
       "      <th>IL-17A</th>\n",
       "      <th>IL-21</th>\n",
       "      <th>IL-22</th>\n",
       "      <th>IL-23</th>\n",
       "      <th>IL-27</th>\n",
       "      <th>IL-9</th>\n",
       "    </tr>\n",
       "  </thead>\n",
       "  <tbody>\n",
       "    <tr>\n",
       "      <th>count</th>\n",
       "      <td>126.000000</td>\n",
       "      <td>126.000000</td>\n",
       "      <td>126.000000</td>\n",
       "      <td>126.000000</td>\n",
       "      <td>126.000000</td>\n",
       "      <td>126.000000</td>\n",
       "      <td>126.000000</td>\n",
       "      <td>126.000000</td>\n",
       "      <td>126.000000</td>\n",
       "      <td>126.000000</td>\n",
       "      <td>126.000000</td>\n",
       "      <td>126.000000</td>\n",
       "      <td>126.000000</td>\n",
       "      <td>126.000000</td>\n",
       "      <td>126.000000</td>\n",
       "      <td>126.000000</td>\n",
       "      <td>126.000000</td>\n",
       "      <td>126.000000</td>\n",
       "    </tr>\n",
       "    <tr>\n",
       "      <th>mean</th>\n",
       "      <td>45.825397</td>\n",
       "      <td>8.726190</td>\n",
       "      <td>10.545635</td>\n",
       "      <td>11.033730</td>\n",
       "      <td>7.083333</td>\n",
       "      <td>8.200397</td>\n",
       "      <td>8.678571</td>\n",
       "      <td>8.136905</td>\n",
       "      <td>10.148810</td>\n",
       "      <td>9.325397</td>\n",
       "      <td>47.884921</td>\n",
       "      <td>10.063492</td>\n",
       "      <td>6.265873</td>\n",
       "      <td>25.878968</td>\n",
       "      <td>12.458333</td>\n",
       "      <td>9.880952</td>\n",
       "      <td>11.311508</td>\n",
       "      <td>8.053571</td>\n",
       "    </tr>\n",
       "    <tr>\n",
       "      <th>std</th>\n",
       "      <td>20.209757</td>\n",
       "      <td>1.839138</td>\n",
       "      <td>4.712579</td>\n",
       "      <td>2.318265</td>\n",
       "      <td>4.669154</td>\n",
       "      <td>4.540707</td>\n",
       "      <td>2.467156</td>\n",
       "      <td>1.864834</td>\n",
       "      <td>4.622465</td>\n",
       "      <td>2.533036</td>\n",
       "      <td>23.692966</td>\n",
       "      <td>7.240783</td>\n",
       "      <td>3.978913</td>\n",
       "      <td>164.347342</td>\n",
       "      <td>29.893841</td>\n",
       "      <td>3.025345</td>\n",
       "      <td>4.696987</td>\n",
       "      <td>5.738258</td>\n",
       "    </tr>\n",
       "    <tr>\n",
       "      <th>min</th>\n",
       "      <td>16.500000</td>\n",
       "      <td>7.500000</td>\n",
       "      <td>8.500000</td>\n",
       "      <td>8.000000</td>\n",
       "      <td>5.000000</td>\n",
       "      <td>6.000000</td>\n",
       "      <td>7.000000</td>\n",
       "      <td>7.000000</td>\n",
       "      <td>7.500000</td>\n",
       "      <td>8.000000</td>\n",
       "      <td>13.500000</td>\n",
       "      <td>5.750000</td>\n",
       "      <td>4.500000</td>\n",
       "      <td>6.000000</td>\n",
       "      <td>7.500000</td>\n",
       "      <td>8.500000</td>\n",
       "      <td>9.000000</td>\n",
       "      <td>5.000000</td>\n",
       "    </tr>\n",
       "    <tr>\n",
       "      <th>25%</th>\n",
       "      <td>32.125000</td>\n",
       "      <td>8.000000</td>\n",
       "      <td>9.000000</td>\n",
       "      <td>10.000000</td>\n",
       "      <td>5.500000</td>\n",
       "      <td>7.000000</td>\n",
       "      <td>8.000000</td>\n",
       "      <td>7.500000</td>\n",
       "      <td>8.500000</td>\n",
       "      <td>8.500000</td>\n",
       "      <td>31.125000</td>\n",
       "      <td>7.500000</td>\n",
       "      <td>5.000000</td>\n",
       "      <td>7.000000</td>\n",
       "      <td>8.000000</td>\n",
       "      <td>9.000000</td>\n",
       "      <td>9.500000</td>\n",
       "      <td>6.000000</td>\n",
       "    </tr>\n",
       "    <tr>\n",
       "      <th>50%</th>\n",
       "      <td>40.250000</td>\n",
       "      <td>8.500000</td>\n",
       "      <td>9.500000</td>\n",
       "      <td>10.500000</td>\n",
       "      <td>6.000000</td>\n",
       "      <td>7.000000</td>\n",
       "      <td>8.000000</td>\n",
       "      <td>8.000000</td>\n",
       "      <td>9.000000</td>\n",
       "      <td>8.500000</td>\n",
       "      <td>40.250000</td>\n",
       "      <td>8.500000</td>\n",
       "      <td>5.375000</td>\n",
       "      <td>8.000000</td>\n",
       "      <td>8.500000</td>\n",
       "      <td>9.500000</td>\n",
       "      <td>10.000000</td>\n",
       "      <td>6.500000</td>\n",
       "    </tr>\n",
       "    <tr>\n",
       "      <th>75%</th>\n",
       "      <td>55.500000</td>\n",
       "      <td>8.500000</td>\n",
       "      <td>10.000000</td>\n",
       "      <td>11.500000</td>\n",
       "      <td>6.000000</td>\n",
       "      <td>8.000000</td>\n",
       "      <td>8.500000</td>\n",
       "      <td>8.000000</td>\n",
       "      <td>10.000000</td>\n",
       "      <td>9.000000</td>\n",
       "      <td>57.250000</td>\n",
       "      <td>9.500000</td>\n",
       "      <td>6.000000</td>\n",
       "      <td>9.500000</td>\n",
       "      <td>9.000000</td>\n",
       "      <td>10.000000</td>\n",
       "      <td>10.500000</td>\n",
       "      <td>7.500000</td>\n",
       "    </tr>\n",
       "    <tr>\n",
       "      <th>max</th>\n",
       "      <td>118.750000</td>\n",
       "      <td>21.250000</td>\n",
       "      <td>56.000000</td>\n",
       "      <td>25.500000</td>\n",
       "      <td>35.250000</td>\n",
       "      <td>50.000000</td>\n",
       "      <td>27.000000</td>\n",
       "      <td>21.500000</td>\n",
       "      <td>45.500000</td>\n",
       "      <td>25.000000</td>\n",
       "      <td>124.500000</td>\n",
       "      <td>64.250000</td>\n",
       "      <td>41.500000</td>\n",
       "      <td>1851.500000</td>\n",
       "      <td>338.250000</td>\n",
       "      <td>42.000000</td>\n",
       "      <td>41.750000</td>\n",
       "      <td>62.750000</td>\n",
       "    </tr>\n",
       "  </tbody>\n",
       "</table>\n",
       "</div>"
      ],
      "text/plain": [
       "        IFN-gamma    IL-12p70       IL-13    IL-1beta        IL-2        IL-4  \\\n",
       "count  126.000000  126.000000  126.000000  126.000000  126.000000  126.000000   \n",
       "mean    45.825397    8.726190   10.545635   11.033730    7.083333    8.200397   \n",
       "std     20.209757    1.839138    4.712579    2.318265    4.669154    4.540707   \n",
       "min     16.500000    7.500000    8.500000    8.000000    5.000000    6.000000   \n",
       "25%     32.125000    8.000000    9.000000   10.000000    5.500000    7.000000   \n",
       "50%     40.250000    8.500000    9.500000   10.500000    6.000000    7.000000   \n",
       "75%     55.500000    8.500000   10.000000   11.500000    6.000000    8.000000   \n",
       "max    118.750000   21.250000   56.000000   25.500000   35.250000   50.000000   \n",
       "\n",
       "             IL-5        IL-6   TNF-alpha      GM-CSF       IL-18       IL-10  \\\n",
       "count  126.000000  126.000000  126.000000  126.000000  126.000000  126.000000   \n",
       "mean     8.678571    8.136905   10.148810    9.325397   47.884921   10.063492   \n",
       "std      2.467156    1.864834    4.622465    2.533036   23.692966    7.240783   \n",
       "min      7.000000    7.000000    7.500000    8.000000   13.500000    5.750000   \n",
       "25%      8.000000    7.500000    8.500000    8.500000   31.125000    7.500000   \n",
       "50%      8.000000    8.000000    9.000000    8.500000   40.250000    8.500000   \n",
       "75%      8.500000    8.000000   10.000000    9.000000   57.250000    9.500000   \n",
       "max     27.000000   21.500000   45.500000   25.000000  124.500000   64.250000   \n",
       "\n",
       "           IL-17A        IL-21       IL-22       IL-23       IL-27        IL-9  \n",
       "count  126.000000   126.000000  126.000000  126.000000  126.000000  126.000000  \n",
       "mean     6.265873    25.878968   12.458333    9.880952   11.311508    8.053571  \n",
       "std      3.978913   164.347342   29.893841    3.025345    4.696987    5.738258  \n",
       "min      4.500000     6.000000    7.500000    8.500000    9.000000    5.000000  \n",
       "25%      5.000000     7.000000    8.000000    9.000000    9.500000    6.000000  \n",
       "50%      5.375000     8.000000    8.500000    9.500000   10.000000    6.500000  \n",
       "75%      6.000000     9.500000    9.000000   10.000000   10.500000    7.500000  \n",
       "max     41.500000  1851.500000  338.250000   42.000000   41.750000   62.750000  "
      ]
     },
     "execution_count": 9,
     "metadata": {},
     "output_type": "execute_result"
    }
   ],
   "source": [
    "cyto_data.describe() #able to calculate median, mean, etc. now"
   ]
  },
  {
   "cell_type": "code",
   "execution_count": 10,
   "id": "e2cf8416-1fc4-4d4d-86f0-94da4692c869",
   "metadata": {},
   "outputs": [
    {
     "data": {
      "text/plain": [
       "pandas.core.frame.DataFrame"
      ]
     },
     "execution_count": 10,
     "metadata": {},
     "output_type": "execute_result"
    }
   ],
   "source": [
    "type(cyto_data)"
   ]
  },
  {
   "cell_type": "code",
   "execution_count": 11,
   "id": "e2f999a9-4659-468e-b25a-007e7a5ddb9f",
   "metadata": {},
   "outputs": [
    {
     "data": {
      "text/plain": [
       "numpy.ndarray"
      ]
     },
     "execution_count": 11,
     "metadata": {},
     "output_type": "execute_result"
    }
   ],
   "source": [
    "type(cyto_data.columns.values)"
   ]
  },
  {
   "cell_type": "markdown",
   "id": "276c0fa6-0d33-4ef5-897b-0be41634f208",
   "metadata": {},
   "source": [
    "---\n",
    "### Testing a dataset class\n"
   ]
  },
  {
   "cell_type": "code",
   "execution_count": 47,
   "id": "872d8d1d-56b2-45bf-8a55-cac08f833230",
   "metadata": {},
   "outputs": [],
   "source": [
    "# class to test out data generation methods\n",
    "class dataset:\n",
    "    def __init__(self, \n",
    "                 data,\n",
    "                 ):\n",
    "        \n",
    "        if type(data) != pd.DataFrame:\n",
    "            self.__PATH_TO_DATA = 'data/' + data\n",
    "            self.data = self.__load_data()\n",
    "        else: \n",
    "            self.data = data\n",
    "            \n",
    "        self.data_summary = self.data.describe()\n",
    "        \n",
    "    def __load_data(self):\n",
    "        # kind of janky since it only works for the specific dataset\n",
    "        dat = pd.read_csv(self.__PATH_TO_DATA)\n",
    "        dat = dat.set_index('Unnamed: 1')\n",
    "        for col in dat.columns:\n",
    "            #print(col)\n",
    "            if 'Unnamed' in col:\n",
    "                #print(col)\n",
    "                dat = dat.drop(col, axis = 1)\n",
    "        dat = dat.drop('Sample ID') \n",
    "        dat.index.name = 'Sample_ID'\n",
    "        for col in dat.columns:\n",
    "            dat[col] = dat[col].apply(float)\n",
    "            \n",
    "        return dat\n",
    "        \n",
    "    # Input a list of columns to get summary stats\n",
    "    def get_summary(self, cols = None): \n",
    "        if cols == None:\n",
    "            return self.data_summary\n",
    "        elif cols != None:\n",
    "            return self.data_summary[cols]\n",
    "    \n",
    "    \n",
    "    def get_dataframe(self):\n",
    "        return self.data\n",
    "    \n",
    "    def get_means(self, cols = None):\n",
    "        return self.get_summary(cols).iloc[1]\n",
    "    \n",
    "    def get_variance(self, cols = None):\n",
    "        return self.get_summary(cols).iloc[2]\n",
    "    \n",
    "    def generate_hist(self, \n",
    "                      col = None, \n",
    "                      n_records = 126, \n",
    "                      compare_dists = True,\n",
    "                      distribution = 'poisson'\n",
    "                      ):\n",
    "        '''\n",
    "        Simulates a histogram of levels of a specific cytokine based on the original data. \n",
    "        There are options to compare the simulated histogram to the original data.\n",
    "        distribution = ['poisson', 'normal']\n",
    "        '''\n",
    "        if distribution == 'poisson':\n",
    "            x = np.random.poisson(lam = self.get_means(cols = col), size = n_records)\n",
    "        elif distribution == 'normal':\n",
    "            x = np.random.normal(loc = self.get_means(cols = col), scale = self.get_variance(cols = col), size = n_records)\n",
    "            \n",
    "        if compare_dists == False:\n",
    "            fig = plt.figure(figsize=(8,4))\n",
    "            plt.hist(x=x)\n",
    "            plt.title(col + ': Randomly generated distribution')\n",
    "            #plt.show()\n",
    "            return fig\n",
    "        else:\n",
    "            f = plt.figure(figsize=(8,8))\n",
    "            f,[data_hist, new_hist] = plt.subplots(1,2, sharex=True)\n",
    "            data_hist.hist(x = self.data[col])\n",
    "            new_hist.hist(x = x)\n",
    "            \n",
    "            data_hist.set_title('Observed data')\n",
    "            new_hist.set_title('Generated data')\n",
    "        return f\n",
    "    \n",
    "    # def generate_boxplot(self,\n",
    "    #                      col = None, \n",
    "    #                      n_records = 126, \n",
    "    #                      compare_dists = True\n",
    "    #                      ):\n",
    "    #     fig = \n",
    "                         \n",
    "                         \n",
    "    def generate_records(self, \n",
    "                        cols,\n",
    "                        #add_in_place = False,\n",
    "                        n_records = 1,\n",
    "                        distribution = 'poisson',\n",
    "                        ):\n",
    "        \n",
    "        df = pd.DataFrame()\n",
    "        if distribution == 'poisson':\n",
    "            for col in cols:\n",
    "                df[col] = np.round(np.random.poisson(lam = self.get_means(cols = col), size = n_records), decimals = 2)\n",
    "        elif distribution == 'normal':\n",
    "            for col in cols:\n",
    "                df[col] = np.round(np.random.normal(loc = self.get_means(cols = col), \n",
    "                                                    scale = self.get_variance(cols = col), \n",
    "                                                    size = n_records), decimals = 2)\n",
    "        return df\n",
    "    \n",
    "    # def __repr__(self):\n",
    "    #     return self.data\n",
    "    # def bar_plot(self, \n",
    "    #              columns,\n",
    "    #              ):\n",
    "    #     sns.barplot(data = self.data,\n",
    "    #                 x = ) "
   ]
  },
  {
   "cell_type": "code",
   "execution_count": null,
   "id": "f9de6ab8-5b6e-4982-9e21-56f6b5be8d82",
   "metadata": {},
   "outputs": [],
   "source": []
  },
  {
   "cell_type": "code",
   "execution_count": 48,
   "id": "c8cfc7f6-f50d-480b-9477-03556500b2ef",
   "metadata": {},
   "outputs": [],
   "source": [
    "dataset_cyto = dataset('norm_cytokine_data.csv')\n"
   ]
  },
  {
   "cell_type": "code",
   "execution_count": 49,
   "id": "9ddfb721-9e5a-47a1-a092-e766fe56b8b1",
   "metadata": {},
   "outputs": [
    {
     "data": {
      "text/html": [
       "<div>\n",
       "<style scoped>\n",
       "    .dataframe tbody tr th:only-of-type {\n",
       "        vertical-align: middle;\n",
       "    }\n",
       "\n",
       "    .dataframe tbody tr th {\n",
       "        vertical-align: top;\n",
       "    }\n",
       "\n",
       "    .dataframe thead th {\n",
       "        text-align: right;\n",
       "    }\n",
       "</style>\n",
       "<table border=\"1\" class=\"dataframe\">\n",
       "  <thead>\n",
       "    <tr style=\"text-align: right;\">\n",
       "      <th></th>\n",
       "      <th>IFN-gamma</th>\n",
       "      <th>IL-12p70</th>\n",
       "      <th>IL-13</th>\n",
       "      <th>IL-1beta</th>\n",
       "      <th>IL-2</th>\n",
       "      <th>IL-4</th>\n",
       "      <th>IL-5</th>\n",
       "      <th>IL-6</th>\n",
       "      <th>TNF-alpha</th>\n",
       "      <th>GM-CSF</th>\n",
       "      <th>IL-18</th>\n",
       "      <th>IL-10</th>\n",
       "      <th>IL-17A</th>\n",
       "      <th>IL-21</th>\n",
       "      <th>IL-22</th>\n",
       "      <th>IL-23</th>\n",
       "      <th>IL-27</th>\n",
       "      <th>IL-9</th>\n",
       "    </tr>\n",
       "    <tr>\n",
       "      <th>Sample_ID</th>\n",
       "      <th></th>\n",
       "      <th></th>\n",
       "      <th></th>\n",
       "      <th></th>\n",
       "      <th></th>\n",
       "      <th></th>\n",
       "      <th></th>\n",
       "      <th></th>\n",
       "      <th></th>\n",
       "      <th></th>\n",
       "      <th></th>\n",
       "      <th></th>\n",
       "      <th></th>\n",
       "      <th></th>\n",
       "      <th></th>\n",
       "      <th></th>\n",
       "      <th></th>\n",
       "      <th></th>\n",
       "    </tr>\n",
       "  </thead>\n",
       "  <tbody>\n",
       "    <tr>\n",
       "      <th>3400334878</th>\n",
       "      <td>98.0</td>\n",
       "      <td>8.5</td>\n",
       "      <td>9.5</td>\n",
       "      <td>11.5</td>\n",
       "      <td>6.5</td>\n",
       "      <td>8.0</td>\n",
       "      <td>7.5</td>\n",
       "      <td>8.0</td>\n",
       "      <td>11.0</td>\n",
       "      <td>9.0</td>\n",
       "      <td>124.50</td>\n",
       "      <td>6.0</td>\n",
       "      <td>5.5</td>\n",
       "      <td>7.0</td>\n",
       "      <td>9.0</td>\n",
       "      <td>9.5</td>\n",
       "      <td>10.5</td>\n",
       "      <td>7.0</td>\n",
       "    </tr>\n",
       "    <tr>\n",
       "      <th>3400334880</th>\n",
       "      <td>37.5</td>\n",
       "      <td>8.0</td>\n",
       "      <td>9.0</td>\n",
       "      <td>9.5</td>\n",
       "      <td>5.0</td>\n",
       "      <td>7.5</td>\n",
       "      <td>8.0</td>\n",
       "      <td>7.0</td>\n",
       "      <td>9.0</td>\n",
       "      <td>8.0</td>\n",
       "      <td>39.50</td>\n",
       "      <td>9.5</td>\n",
       "      <td>5.0</td>\n",
       "      <td>7.0</td>\n",
       "      <td>8.0</td>\n",
       "      <td>9.0</td>\n",
       "      <td>9.5</td>\n",
       "      <td>8.5</td>\n",
       "    </tr>\n",
       "    <tr>\n",
       "      <th>3400334974</th>\n",
       "      <td>33.5</td>\n",
       "      <td>7.5</td>\n",
       "      <td>9.0</td>\n",
       "      <td>10.5</td>\n",
       "      <td>6.0</td>\n",
       "      <td>6.5</td>\n",
       "      <td>8.0</td>\n",
       "      <td>7.5</td>\n",
       "      <td>8.0</td>\n",
       "      <td>8.0</td>\n",
       "      <td>26.75</td>\n",
       "      <td>8.5</td>\n",
       "      <td>5.0</td>\n",
       "      <td>7.5</td>\n",
       "      <td>8.0</td>\n",
       "      <td>9.0</td>\n",
       "      <td>9.5</td>\n",
       "      <td>6.0</td>\n",
       "    </tr>\n",
       "  </tbody>\n",
       "</table>\n",
       "</div>"
      ],
      "text/plain": [
       "            IFN-gamma  IL-12p70  IL-13  IL-1beta  IL-2  IL-4  IL-5  IL-6  \\\n",
       "Sample_ID                                                                  \n",
       "3400334878       98.0       8.5    9.5      11.5   6.5   8.0   7.5   8.0   \n",
       "3400334880       37.5       8.0    9.0       9.5   5.0   7.5   8.0   7.0   \n",
       "3400334974       33.5       7.5    9.0      10.5   6.0   6.5   8.0   7.5   \n",
       "\n",
       "            TNF-alpha  GM-CSF   IL-18  IL-10  IL-17A  IL-21  IL-22  IL-23  \\\n",
       "Sample_ID                                                                   \n",
       "3400334878       11.0     9.0  124.50    6.0     5.5    7.0    9.0    9.5   \n",
       "3400334880        9.0     8.0   39.50    9.5     5.0    7.0    8.0    9.0   \n",
       "3400334974        8.0     8.0   26.75    8.5     5.0    7.5    8.0    9.0   \n",
       "\n",
       "            IL-27  IL-9  \n",
       "Sample_ID                \n",
       "3400334878   10.5   7.0  \n",
       "3400334880    9.5   8.5  \n",
       "3400334974    9.5   6.0  "
      ]
     },
     "execution_count": 49,
     "metadata": {},
     "output_type": "execute_result"
    }
   ],
   "source": [
    "# get_dataframe test\n",
    "dataset_cyto.get_dataframe().head(3)"
   ]
  },
  {
   "cell_type": "code",
   "execution_count": 50,
   "id": "67f9e43b-bf66-4c28-971a-d616f6cde1e3",
   "metadata": {},
   "outputs": [
    {
     "data": {
      "text/html": [
       "<div>\n",
       "<style scoped>\n",
       "    .dataframe tbody tr th:only-of-type {\n",
       "        vertical-align: middle;\n",
       "    }\n",
       "\n",
       "    .dataframe tbody tr th {\n",
       "        vertical-align: top;\n",
       "    }\n",
       "\n",
       "    .dataframe thead th {\n",
       "        text-align: right;\n",
       "    }\n",
       "</style>\n",
       "<table border=\"1\" class=\"dataframe\">\n",
       "  <thead>\n",
       "    <tr style=\"text-align: right;\">\n",
       "      <th></th>\n",
       "      <th>IFN-gamma</th>\n",
       "      <th>IL-2</th>\n",
       "    </tr>\n",
       "  </thead>\n",
       "  <tbody>\n",
       "    <tr>\n",
       "      <th>count</th>\n",
       "      <td>126.000000</td>\n",
       "      <td>126.000000</td>\n",
       "    </tr>\n",
       "    <tr>\n",
       "      <th>mean</th>\n",
       "      <td>45.825397</td>\n",
       "      <td>7.083333</td>\n",
       "    </tr>\n",
       "    <tr>\n",
       "      <th>std</th>\n",
       "      <td>20.209757</td>\n",
       "      <td>4.669154</td>\n",
       "    </tr>\n",
       "    <tr>\n",
       "      <th>min</th>\n",
       "      <td>16.500000</td>\n",
       "      <td>5.000000</td>\n",
       "    </tr>\n",
       "    <tr>\n",
       "      <th>25%</th>\n",
       "      <td>32.125000</td>\n",
       "      <td>5.500000</td>\n",
       "    </tr>\n",
       "    <tr>\n",
       "      <th>50%</th>\n",
       "      <td>40.250000</td>\n",
       "      <td>6.000000</td>\n",
       "    </tr>\n",
       "    <tr>\n",
       "      <th>75%</th>\n",
       "      <td>55.500000</td>\n",
       "      <td>6.000000</td>\n",
       "    </tr>\n",
       "    <tr>\n",
       "      <th>max</th>\n",
       "      <td>118.750000</td>\n",
       "      <td>35.250000</td>\n",
       "    </tr>\n",
       "  </tbody>\n",
       "</table>\n",
       "</div>"
      ],
      "text/plain": [
       "        IFN-gamma        IL-2\n",
       "count  126.000000  126.000000\n",
       "mean    45.825397    7.083333\n",
       "std     20.209757    4.669154\n",
       "min     16.500000    5.000000\n",
       "25%     32.125000    5.500000\n",
       "50%     40.250000    6.000000\n",
       "75%     55.500000    6.000000\n",
       "max    118.750000   35.250000"
      ]
     },
     "execution_count": 50,
     "metadata": {},
     "output_type": "execute_result"
    }
   ],
   "source": [
    "# test get_summary\n",
    "columns = ['IFN-gamma', 'IL-2']\n",
    "dataset_cyto.get_summary(cols = columns)"
   ]
  },
  {
   "cell_type": "code",
   "execution_count": 51,
   "id": "bfc92d1f-458d-43b2-af6e-f2eb0913cab3",
   "metadata": {},
   "outputs": [
    {
     "name": "stdout",
     "output_type": "stream",
     "text": [
      "<class 'pandas.core.series.Series'>\n"
     ]
    },
    {
     "data": {
      "text/plain": [
       "IFN-gamma    45.825397\n",
       "IL-2          7.083333\n",
       "Name: mean, dtype: float64"
      ]
     },
     "execution_count": 51,
     "metadata": {},
     "output_type": "execute_result"
    }
   ],
   "source": [
    "print(type(dataset_cyto.get_means(cols = columns)))\n",
    "dataset_cyto.get_means(cols = columns)\n"
   ]
  },
  {
   "cell_type": "code",
   "execution_count": 52,
   "id": "f9b41319-8ebd-4c42-9065-3164eb0f47bd",
   "metadata": {},
   "outputs": [
    {
     "data": {
      "image/png": "[encoded data removed]",
      "text/plain": [
       "<Figure size 640x480 with 2 Axes>"
      ]
     },
     "execution_count": 52,
     "metadata": {},
     "output_type": "execute_result"
    },
    {
     "data": {
      "text/plain": [
       "<Figure size 800x800 with 0 Axes>"
      ]
     },
     "metadata": {},
     "output_type": "display_data"
    },
    {
     "data": {
      "image/png": "[encoded data removed]",
      "text/plain": [
       "<Figure size 640x480 with 2 Axes>"
      ]
     },
     "metadata": {},
     "output_type": "display_data"
    }
   ],
   "source": [
    "# test generate_hist\n",
    "# it keeps making a duplicate since i need to return the figure \"f\" for it to display in streamlit\n",
    "dataset_cyto.generate_hist(col = 'IFN-gamma', n_records = 126, compare_dists=True)"
   ]
  },
  {
   "cell_type": "code",
   "execution_count": 53,
   "id": "8c4134eb-8be9-4d76-b78b-6831a7d29098",
   "metadata": {},
   "outputs": [
    {
     "data": {
      "image/png": "[encoded data removed]",
      "text/plain": [
       "<Figure size 800x400 with 1 Axes>"
      ]
     },
     "execution_count": 53,
     "metadata": {},
     "output_type": "execute_result"
    },
    {
     "data": {
      "image/png": "[encoded data removed]",
      "text/plain": [
       "<Figure size 800x400 with 1 Axes>"
      ]
     },
     "metadata": {},
     "output_type": "display_data"
    }
   ],
   "source": [
    "dataset_cyto.generate_hist(col = 'IL-10', n_records = 126, compare_dists=False)"
   ]
  },
  {
   "cell_type": "code",
   "execution_count": 54,
   "id": "4e07eaa0-c8be-4eda-a934-af6f31470681",
   "metadata": {},
   "outputs": [
    {
     "data": {
      "text/html": [
       "<div>\n",
       "<style scoped>\n",
       "    .dataframe tbody tr th:only-of-type {\n",
       "        vertical-align: middle;\n",
       "    }\n",
       "\n",
       "    .dataframe tbody tr th {\n",
       "        vertical-align: top;\n",
       "    }\n",
       "\n",
       "    .dataframe thead th {\n",
       "        text-align: right;\n",
       "    }\n",
       "</style>\n",
       "<table border=\"1\" class=\"dataframe\">\n",
       "  <thead>\n",
       "    <tr style=\"text-align: right;\">\n",
       "      <th></th>\n",
       "      <th>IFN-gamma</th>\n",
       "      <th>IL-12p70</th>\n",
       "      <th>IL-13</th>\n",
       "      <th>IL-1beta</th>\n",
       "      <th>IL-2</th>\n",
       "      <th>IL-4</th>\n",
       "      <th>IL-5</th>\n",
       "      <th>IL-6</th>\n",
       "      <th>TNF-alpha</th>\n",
       "      <th>GM-CSF</th>\n",
       "      <th>IL-18</th>\n",
       "      <th>IL-10</th>\n",
       "      <th>IL-17A</th>\n",
       "      <th>IL-21</th>\n",
       "      <th>IL-22</th>\n",
       "      <th>IL-23</th>\n",
       "      <th>IL-27</th>\n",
       "      <th>IL-9</th>\n",
       "    </tr>\n",
       "    <tr>\n",
       "      <th>Sample_ID</th>\n",
       "      <th></th>\n",
       "      <th></th>\n",
       "      <th></th>\n",
       "      <th></th>\n",
       "      <th></th>\n",
       "      <th></th>\n",
       "      <th></th>\n",
       "      <th></th>\n",
       "      <th></th>\n",
       "      <th></th>\n",
       "      <th></th>\n",
       "      <th></th>\n",
       "      <th></th>\n",
       "      <th></th>\n",
       "      <th></th>\n",
       "      <th></th>\n",
       "      <th></th>\n",
       "      <th></th>\n",
       "    </tr>\n",
       "  </thead>\n",
       "  <tbody>\n",
       "    <tr>\n",
       "      <th>3400334878</th>\n",
       "      <td>98.0</td>\n",
       "      <td>8.5</td>\n",
       "      <td>9.5</td>\n",
       "      <td>11.5</td>\n",
       "      <td>6.5</td>\n",
       "      <td>8.0</td>\n",
       "      <td>7.5</td>\n",
       "      <td>8.0</td>\n",
       "      <td>11.0</td>\n",
       "      <td>9.0</td>\n",
       "      <td>124.50</td>\n",
       "      <td>6.0</td>\n",
       "      <td>5.5</td>\n",
       "      <td>7.0</td>\n",
       "      <td>9.0</td>\n",
       "      <td>9.5</td>\n",
       "      <td>10.5</td>\n",
       "      <td>7.0</td>\n",
       "    </tr>\n",
       "    <tr>\n",
       "      <th>3400334880</th>\n",
       "      <td>37.5</td>\n",
       "      <td>8.0</td>\n",
       "      <td>9.0</td>\n",
       "      <td>9.5</td>\n",
       "      <td>5.0</td>\n",
       "      <td>7.5</td>\n",
       "      <td>8.0</td>\n",
       "      <td>7.0</td>\n",
       "      <td>9.0</td>\n",
       "      <td>8.0</td>\n",
       "      <td>39.50</td>\n",
       "      <td>9.5</td>\n",
       "      <td>5.0</td>\n",
       "      <td>7.0</td>\n",
       "      <td>8.0</td>\n",
       "      <td>9.0</td>\n",
       "      <td>9.5</td>\n",
       "      <td>8.5</td>\n",
       "    </tr>\n",
       "    <tr>\n",
       "      <th>3400334974</th>\n",
       "      <td>33.5</td>\n",
       "      <td>7.5</td>\n",
       "      <td>9.0</td>\n",
       "      <td>10.5</td>\n",
       "      <td>6.0</td>\n",
       "      <td>6.5</td>\n",
       "      <td>8.0</td>\n",
       "      <td>7.5</td>\n",
       "      <td>8.0</td>\n",
       "      <td>8.0</td>\n",
       "      <td>26.75</td>\n",
       "      <td>8.5</td>\n",
       "      <td>5.0</td>\n",
       "      <td>7.5</td>\n",
       "      <td>8.0</td>\n",
       "      <td>9.0</td>\n",
       "      <td>9.5</td>\n",
       "      <td>6.0</td>\n",
       "    </tr>\n",
       "    <tr>\n",
       "      <th>3400335283</th>\n",
       "      <td>26.0</td>\n",
       "      <td>8.0</td>\n",
       "      <td>9.0</td>\n",
       "      <td>10.5</td>\n",
       "      <td>6.0</td>\n",
       "      <td>7.0</td>\n",
       "      <td>8.0</td>\n",
       "      <td>7.0</td>\n",
       "      <td>9.0</td>\n",
       "      <td>8.5</td>\n",
       "      <td>24.00</td>\n",
       "      <td>9.0</td>\n",
       "      <td>5.5</td>\n",
       "      <td>9.0</td>\n",
       "      <td>8.5</td>\n",
       "      <td>9.0</td>\n",
       "      <td>10.0</td>\n",
       "      <td>6.0</td>\n",
       "    </tr>\n",
       "    <tr>\n",
       "      <th>3400335823</th>\n",
       "      <td>40.5</td>\n",
       "      <td>8.0</td>\n",
       "      <td>9.0</td>\n",
       "      <td>11.0</td>\n",
       "      <td>5.5</td>\n",
       "      <td>9.0</td>\n",
       "      <td>8.0</td>\n",
       "      <td>7.5</td>\n",
       "      <td>9.0</td>\n",
       "      <td>9.0</td>\n",
       "      <td>38.50</td>\n",
       "      <td>8.0</td>\n",
       "      <td>5.0</td>\n",
       "      <td>79.0</td>\n",
       "      <td>9.0</td>\n",
       "      <td>9.0</td>\n",
       "      <td>10.0</td>\n",
       "      <td>6.0</td>\n",
       "    </tr>\n",
       "  </tbody>\n",
       "</table>\n",
       "</div>"
      ],
      "text/plain": [
       "            IFN-gamma  IL-12p70  IL-13  IL-1beta  IL-2  IL-4  IL-5  IL-6  \\\n",
       "Sample_ID                                                                  \n",
       "3400334878       98.0       8.5    9.5      11.5   6.5   8.0   7.5   8.0   \n",
       "3400334880       37.5       8.0    9.0       9.5   5.0   7.5   8.0   7.0   \n",
       "3400334974       33.5       7.5    9.0      10.5   6.0   6.5   8.0   7.5   \n",
       "3400335283       26.0       8.0    9.0      10.5   6.0   7.0   8.0   7.0   \n",
       "3400335823       40.5       8.0    9.0      11.0   5.5   9.0   8.0   7.5   \n",
       "\n",
       "            TNF-alpha  GM-CSF   IL-18  IL-10  IL-17A  IL-21  IL-22  IL-23  \\\n",
       "Sample_ID                                                                   \n",
       "3400334878       11.0     9.0  124.50    6.0     5.5    7.0    9.0    9.5   \n",
       "3400334880        9.0     8.0   39.50    9.5     5.0    7.0    8.0    9.0   \n",
       "3400334974        8.0     8.0   26.75    8.5     5.0    7.5    8.0    9.0   \n",
       "3400335283        9.0     8.5   24.00    9.0     5.5    9.0    8.5    9.0   \n",
       "3400335823        9.0     9.0   38.50    8.0     5.0   79.0    9.0    9.0   \n",
       "\n",
       "            IL-27  IL-9  \n",
       "Sample_ID                \n",
       "3400334878   10.5   7.0  \n",
       "3400334880    9.5   8.5  \n",
       "3400334974    9.5   6.0  \n",
       "3400335283   10.0   6.0  \n",
       "3400335823   10.0   6.0  "
      ]
     },
     "execution_count": 54,
     "metadata": {},
     "output_type": "execute_result"
    }
   ],
   "source": [
    "# test loading data from dataframe\n",
    "dataset2 = dataset(cyto_data)\n",
    "dataset2.get_dataframe().head()"
   ]
  },
  {
   "cell_type": "code",
   "execution_count": 55,
   "id": "cc78a5ec-5907-42f4-b570-4770fdcffd58",
   "metadata": {},
   "outputs": [
    {
     "data": {
      "text/html": [
       "<div>\n",
       "<style scoped>\n",
       "    .dataframe tbody tr th:only-of-type {\n",
       "        vertical-align: middle;\n",
       "    }\n",
       "\n",
       "    .dataframe tbody tr th {\n",
       "        vertical-align: top;\n",
       "    }\n",
       "\n",
       "    .dataframe thead th {\n",
       "        text-align: right;\n",
       "    }\n",
       "</style>\n",
       "<table border=\"1\" class=\"dataframe\">\n",
       "  <thead>\n",
       "    <tr style=\"text-align: right;\">\n",
       "      <th></th>\n",
       "      <th>IL-4</th>\n",
       "      <th>IL-2</th>\n",
       "    </tr>\n",
       "    <tr>\n",
       "      <th>Sample_ID</th>\n",
       "      <th></th>\n",
       "      <th></th>\n",
       "    </tr>\n",
       "  </thead>\n",
       "  <tbody>\n",
       "    <tr>\n",
       "      <th>3400334878</th>\n",
       "      <td>8.0</td>\n",
       "      <td>6.5</td>\n",
       "    </tr>\n",
       "    <tr>\n",
       "      <th>3400334880</th>\n",
       "      <td>7.5</td>\n",
       "      <td>5.0</td>\n",
       "    </tr>\n",
       "    <tr>\n",
       "      <th>3400334974</th>\n",
       "      <td>6.5</td>\n",
       "      <td>6.0</td>\n",
       "    </tr>\n",
       "    <tr>\n",
       "      <th>3400335283</th>\n",
       "      <td>7.0</td>\n",
       "      <td>6.0</td>\n",
       "    </tr>\n",
       "    <tr>\n",
       "      <th>3400335823</th>\n",
       "      <td>9.0</td>\n",
       "      <td>5.5</td>\n",
       "    </tr>\n",
       "  </tbody>\n",
       "</table>\n",
       "</div>"
      ],
      "text/plain": [
       "            IL-4  IL-2\n",
       "Sample_ID             \n",
       "3400334878   8.0   6.5\n",
       "3400334880   7.5   5.0\n",
       "3400334974   6.5   6.0\n",
       "3400335283   7.0   6.0\n",
       "3400335823   9.0   5.5"
      ]
     },
     "execution_count": 55,
     "metadata": {},
     "output_type": "execute_result"
    }
   ],
   "source": [
    "dataset3 = dataset(cyto_data[['IL-4', 'IL-2']])\n",
    "dataset3.get_dataframe().head()"
   ]
  },
  {
   "cell_type": "code",
   "execution_count": 56,
   "id": "3cd338b1-7c41-44ce-a139-4c01462349a6",
   "metadata": {},
   "outputs": [
    {
     "data": {
      "text/html": [
       "<div>\n",
       "<style scoped>\n",
       "    .dataframe tbody tr th:only-of-type {\n",
       "        vertical-align: middle;\n",
       "    }\n",
       "\n",
       "    .dataframe tbody tr th {\n",
       "        vertical-align: top;\n",
       "    }\n",
       "\n",
       "    .dataframe thead th {\n",
       "        text-align: right;\n",
       "    }\n",
       "</style>\n",
       "<table border=\"1\" class=\"dataframe\">\n",
       "  <thead>\n",
       "    <tr style=\"text-align: right;\">\n",
       "      <th></th>\n",
       "      <th>IL-4</th>\n",
       "      <th>IL-2</th>\n",
       "    </tr>\n",
       "  </thead>\n",
       "  <tbody>\n",
       "    <tr>\n",
       "      <th>count</th>\n",
       "      <td>126.000000</td>\n",
       "      <td>126.000000</td>\n",
       "    </tr>\n",
       "    <tr>\n",
       "      <th>mean</th>\n",
       "      <td>8.200397</td>\n",
       "      <td>7.083333</td>\n",
       "    </tr>\n",
       "    <tr>\n",
       "      <th>std</th>\n",
       "      <td>4.540707</td>\n",
       "      <td>4.669154</td>\n",
       "    </tr>\n",
       "    <tr>\n",
       "      <th>min</th>\n",
       "      <td>6.000000</td>\n",
       "      <td>5.000000</td>\n",
       "    </tr>\n",
       "    <tr>\n",
       "      <th>25%</th>\n",
       "      <td>7.000000</td>\n",
       "      <td>5.500000</td>\n",
       "    </tr>\n",
       "    <tr>\n",
       "      <th>50%</th>\n",
       "      <td>7.000000</td>\n",
       "      <td>6.000000</td>\n",
       "    </tr>\n",
       "    <tr>\n",
       "      <th>75%</th>\n",
       "      <td>8.000000</td>\n",
       "      <td>6.000000</td>\n",
       "    </tr>\n",
       "    <tr>\n",
       "      <th>max</th>\n",
       "      <td>50.000000</td>\n",
       "      <td>35.250000</td>\n",
       "    </tr>\n",
       "  </tbody>\n",
       "</table>\n",
       "</div>"
      ],
      "text/plain": [
       "             IL-4        IL-2\n",
       "count  126.000000  126.000000\n",
       "mean     8.200397    7.083333\n",
       "std      4.540707    4.669154\n",
       "min      6.000000    5.000000\n",
       "25%      7.000000    5.500000\n",
       "50%      7.000000    6.000000\n",
       "75%      8.000000    6.000000\n",
       "max     50.000000   35.250000"
      ]
     },
     "execution_count": 56,
     "metadata": {},
     "output_type": "execute_result"
    }
   ],
   "source": [
    "dataset3.get_summary()"
   ]
  },
  {
   "cell_type": "code",
   "execution_count": 57,
   "id": "8c67b9b7-48ae-48ce-8c4f-c95d749d6b52",
   "metadata": {},
   "outputs": [
    {
     "data": {
      "text/html": [
       "<div>\n",
       "<style scoped>\n",
       "    .dataframe tbody tr th:only-of-type {\n",
       "        vertical-align: middle;\n",
       "    }\n",
       "\n",
       "    .dataframe tbody tr th {\n",
       "        vertical-align: top;\n",
       "    }\n",
       "\n",
       "    .dataframe thead th {\n",
       "        text-align: right;\n",
       "    }\n",
       "</style>\n",
       "<table border=\"1\" class=\"dataframe\">\n",
       "  <thead>\n",
       "    <tr style=\"text-align: right;\">\n",
       "      <th></th>\n",
       "      <th>IFN-gamma</th>\n",
       "      <th>IL-1beta</th>\n",
       "      <th>IL-2</th>\n",
       "    </tr>\n",
       "  </thead>\n",
       "  <tbody>\n",
       "    <tr>\n",
       "      <th>0</th>\n",
       "      <td>54</td>\n",
       "      <td>9</td>\n",
       "      <td>6</td>\n",
       "    </tr>\n",
       "  </tbody>\n",
       "</table>\n",
       "</div>"
      ],
      "text/plain": [
       "   IFN-gamma  IL-1beta  IL-2\n",
       "0         54         9     6"
      ]
     },
     "execution_count": 57,
     "metadata": {},
     "output_type": "execute_result"
    }
   ],
   "source": [
    "# test generate_record\n",
    "dataset_cyto.generate_record(cols = ['IFN-gamma','IL-1beta', 'IL-2'])"
   ]
  },
  {
   "cell_type": "code",
   "execution_count": 59,
   "id": "0930fd33-dee1-473d-8f9d-22e1f9609da4",
   "metadata": {},
   "outputs": [
    {
     "data": {
      "text/html": [
       "<div>\n",
       "<style scoped>\n",
       "    .dataframe tbody tr th:only-of-type {\n",
       "        vertical-align: middle;\n",
       "    }\n",
       "\n",
       "    .dataframe tbody tr th {\n",
       "        vertical-align: top;\n",
       "    }\n",
       "\n",
       "    .dataframe thead th {\n",
       "        text-align: right;\n",
       "    }\n",
       "</style>\n",
       "<table border=\"1\" class=\"dataframe\">\n",
       "  <thead>\n",
       "    <tr style=\"text-align: right;\">\n",
       "      <th></th>\n",
       "      <th>IFN-gamma</th>\n",
       "      <th>IL-1beta</th>\n",
       "      <th>IL-2</th>\n",
       "    </tr>\n",
       "  </thead>\n",
       "  <tbody>\n",
       "    <tr>\n",
       "      <th>0</th>\n",
       "      <td>27.03</td>\n",
       "      <td>10.28</td>\n",
       "      <td>5.36</td>\n",
       "    </tr>\n",
       "    <tr>\n",
       "      <th>1</th>\n",
       "      <td>36.51</td>\n",
       "      <td>6.79</td>\n",
       "      <td>4.18</td>\n",
       "    </tr>\n",
       "    <tr>\n",
       "      <th>2</th>\n",
       "      <td>59.29</td>\n",
       "      <td>10.05</td>\n",
       "      <td>11.96</td>\n",
       "    </tr>\n",
       "    <tr>\n",
       "      <th>3</th>\n",
       "      <td>26.95</td>\n",
       "      <td>9.50</td>\n",
       "      <td>5.50</td>\n",
       "    </tr>\n",
       "    <tr>\n",
       "      <th>4</th>\n",
       "      <td>31.93</td>\n",
       "      <td>11.31</td>\n",
       "      <td>8.01</td>\n",
       "    </tr>\n",
       "  </tbody>\n",
       "</table>\n",
       "</div>"
      ],
      "text/plain": [
       "   IFN-gamma  IL-1beta   IL-2\n",
       "0      27.03     10.28   5.36\n",
       "1      36.51      6.79   4.18\n",
       "2      59.29     10.05  11.96\n",
       "3      26.95      9.50   5.50\n",
       "4      31.93     11.31   8.01"
      ]
     },
     "execution_count": 59,
     "metadata": {},
     "output_type": "execute_result"
    }
   ],
   "source": [
    "dataset_cyto.generate_record(cols = ['IFN-gamma','IL-1beta', 'IL-2'],\n",
    "                             n_records=5, \n",
    "                             distribution='normal')"
   ]
  },
  {
   "cell_type": "markdown",
   "id": "5ed14cf1-652a-448c-aee5-efec89b58961",
   "metadata": {},
   "source": [
    "---\n",
    "Below, I'm checking the distribution of the cytokines to determine what kind of distribution I should use to generate a new record. This is because each cytokine could be either a normal, poisson, or other ditribution.\n"
   ]
  },
  {
   "cell_type": "code",
   "execution_count": 28,
   "id": "f15e2924-0b0d-4731-bf2e-bc5de52ee0e6",
   "metadata": {},
   "outputs": [
    {
     "data": {
      "image/png": "[encoded data removed]",
      "text/plain": [
       "<Figure size 1000x400 with 1 Axes>"
      ]
     },
     "metadata": {},
     "output_type": "display_data"
    },
    {
     "data": {
      "image/png": "[encoded data removed]",
      "text/plain": [
       "<Figure size 1000x400 with 1 Axes>"
      ]
     },
     "metadata": {},
     "output_type": "display_data"
    },
    {
     "data": {
      "image/png": "[encoded data removed]",
      "text/plain": [
       "<Figure size 1000x400 with 1 Axes>"
      ]
     },
     "metadata": {},
     "output_type": "display_data"
    },
    {
     "data": {
      "image/png": "[encoded data removed]",
      "text/plain": [
       "<Figure size 1000x400 with 1 Axes>"
      ]
     },
     "metadata": {},
     "output_type": "display_data"
    },
    {
     "data": {
      "image/png": "[encoded data removed]",
      "text/plain": [
       "<Figure size 1000x400 with 1 Axes>"
      ]
     },
     "metadata": {},
     "output_type": "display_data"
    },
    {
     "data": {
      "image/png": "[encoded data removed]",
      "text/plain": [
       "<Figure size 1000x400 with 1 Axes>"
      ]
     },
     "metadata": {},
     "output_type": "display_data"
    },
    {
     "data": {
      "image/png": "[encoded data removed]",
      "text/plain": [
       "<Figure size 1000x400 with 1 Axes>"
      ]
     },
     "metadata": {},
     "output_type": "display_data"
    },
    {
     "data": {
      "image/png": "[encoded data removed]",
      "text/plain": [
       "<Figure size 1000x400 with 1 Axes>"
      ]
     },
     "metadata": {},
     "output_type": "display_data"
    },
    {
     "data": {
      "image/png": "[encoded data removed]",
      "text/plain": [
       "<Figure size 1000x400 with 1 Axes>"
      ]
     },
     "metadata": {},
     "output_type": "display_data"
    },
    {
     "data": {
      "image/png": "[encoded data removed]",
      "text/plain": [
       "<Figure size 1000x400 with 1 Axes>"
      ]
     },
     "metadata": {},
     "output_type": "display_data"
    },
    {
     "data": {
      "image/png": "[encoded data removed]",
      "text/plain": [
       "<Figure size 1000x400 with 1 Axes>"
      ]
     },
     "metadata": {},
     "output_type": "display_data"
    },
    {
     "data": {
      "image/png": "[encoded data removed]",
      "text/plain": [
       "<Figure size 1000x400 with 1 Axes>"
      ]
     },
     "metadata": {},
     "output_type": "display_data"
    },
    {
     "data": {
      "image/png": "[encoded data removed]",
      "text/plain": [
       "<Figure size 1000x400 with 1 Axes>"
      ]
     },
     "metadata": {},
     "output_type": "display_data"
    },
    {
     "data": {
      "image/png": "[encoded data removed]",
      "text/plain": [
       "<Figure size 1000x400 with 1 Axes>"
      ]
     },
     "metadata": {},
     "output_type": "display_data"
    },
    {
     "data": {
      "image/png": "[encoded data removed]",
      "text/plain": [
       "<Figure size 1000x400 with 1 Axes>"
      ]
     },
     "metadata": {},
     "output_type": "display_data"
    },
    {
     "data": {
      "image/png": "[encoded data removed]",
      "text/plain": [
       "<Figure size 1000x400 with 1 Axes>"
      ]
     },
     "metadata": {},
     "output_type": "display_data"
    },
    {
     "data": {
      "image/png": "[encoded data removed]",
      "text/plain": [
       "<Figure size 1000x400 with 1 Axes>"
      ]
     },
     "metadata": {},
     "output_type": "display_data"
    },
    {
     "data": {
      "image/png": "[encoded data removed]",
      "text/plain": [
       "<Figure size 1000x400 with 1 Axes>"
      ]
     },
     "metadata": {},
     "output_type": "display_data"
    }
   ],
   "source": [
    "for col in dataset_cyto.get_dataframe().columns:\n",
    "    plt.figure(figsize=(10,4))\n",
    "    plt.hist(x=col, data = cyto_data, bins = 30)\n",
    "    plt.title(col)\n",
    "    plt.show()\n",
    "    #break"
   ]
  },
  {
   "cell_type": "code",
   "execution_count": 21,
   "id": "8215edfa-b07b-47e4-892d-4b6f7c5bb42c",
   "metadata": {},
   "outputs": [
    {
     "name": "stdout",
     "output_type": "stream",
     "text": [
      "IFN-gamma    45.825397\n",
      "IL-12p70      8.726190\n",
      "IL-13        10.545635\n",
      "IL-1beta     11.033730\n",
      "IL-2          7.083333\n",
      "IL-4          8.200397\n",
      "IL-5          8.678571\n",
      "IL-6          8.136905\n",
      "TNF-alpha    10.148810\n",
      "GM-CSF        9.325397\n",
      "IL-18        47.884921\n",
      "IL-10        10.063492\n",
      "IL-17A        6.265873\n",
      "IL-21        25.878968\n",
      "IL-22        12.458333\n",
      "IL-23         9.880952\n",
      "IL-27        11.311508\n",
      "IL-9          8.053571\n",
      "Name: mean, dtype: float64\n"
     ]
    }
   ],
   "source": [
    "# get means \n",
    "print(dataset_cyto.get_summary().iloc[1])"
   ]
  },
  {
   "cell_type": "code",
   "execution_count": 22,
   "id": "d350354e-41b7-4426-b2bd-ff594c5a26e8",
   "metadata": {},
   "outputs": [
    {
     "data": {
      "image/png": "[encoded data removed]",
      "text/plain": [
       "<Figure size 640x480 with 1 Axes>"
      ]
     },
     "metadata": {},
     "output_type": "display_data"
    }
   ],
   "source": [
    "# Almost every graph looks like it follows a Poisson distribution, so I'm going to try using a function from numpy\n",
    "# in order to get random numbers from a poisson distribution\n",
    "\n",
    "plt.hist(x=np.random.poisson(lam=40.25, size = 120), bins = 30)\n",
    "plt.title('IFN gamma test distribution')\n",
    "plt.show()"
   ]
  },
  {
   "cell_type": "markdown",
   "id": "5eb1bb5d-afb2-4192-93ff-1f275b400678",
   "metadata": {},
   "source": [
    "Not sure if poisson is the right choice since most graphs are affected by outliers. It is also possible that the distributions are normal ones with right skew, but with extreme outliers"
   ]
  },
  {
   "cell_type": "markdown",
   "id": "7bd1e899-b587-4b59-a91b-0cbf58f2cd95",
   "metadata": {},
   "source": [
    "---\n"
   ]
  },
  {
   "cell_type": "code",
   "execution_count": 23,
   "id": "970b1471-2381-480d-acf6-04c9dc2d3a6f",
   "metadata": {},
   "outputs": [
    {
     "data": {
      "text/plain": [
       "Index(['IFN-gamma', 'IL-12p70', 'IL-13', 'IL-1beta', 'IL-2', 'IL-4', 'IL-5',\n",
       "       'IL-6', 'TNF-alpha', 'GM-CSF', 'IL-18', 'IL-10', 'IL-17A', 'IL-21',\n",
       "       'IL-22', 'IL-23', 'IL-27', 'IL-9'],\n",
       "      dtype='object')"
      ]
     },
     "execution_count": 23,
     "metadata": {},
     "output_type": "execute_result"
    }
   ],
   "source": [
    "dataset_cyto.get_dataframe().columns"
   ]
  },
  {
   "cell_type": "code",
   "execution_count": 24,
   "id": "027116d4-192b-472a-8ef3-420f8dd6b3e3",
   "metadata": {},
   "outputs": [
    {
     "ename": "SyntaxError",
     "evalue": "invalid syntax (2305948838.py, line 1)",
     "output_type": "error",
     "traceback": [
      "\u001b[1;36m  File \u001b[1;32m\"C:\\Users\\patri\\AppData\\Local\\Temp\\ipykernel_14092\\2305948838.py\"\u001b[1;36m, line \u001b[1;32m1\u001b[0m\n\u001b[1;33m    def generate_record(data, cols = None, type_dist = '')\u001b[0m\n\u001b[1;37m                                                          ^\u001b[0m\n\u001b[1;31mSyntaxError\u001b[0m\u001b[1;31m:\u001b[0m invalid syntax\n"
     ]
    }
   ],
   "source": [
    "def generate_record(data, cols = None, type_dist = '')\n",
    "    if type_dist = 'poisson':\n",
    "        \n",
    "    elif type_dist = 'normal'"
   ]
  }
 ],
 "metadata": {
  "kernelspec": {
   "display_name": "Python 3 (ipykernel)",
   "language": "python",
   "name": "python3"
  },
  "language_info": {
   "codemirror_mode": {
    "name": "ipython",
    "version": 3
   },
   "file_extension": ".py",
   "mimetype": "text/x-python",
   "name": "python",
   "nbconvert_exporter": "python",
   "pygments_lexer": "ipython3",
   "version": "3.9.13"
  }
 },
 "nbformat": 4,
 "nbformat_minor": 5
}
